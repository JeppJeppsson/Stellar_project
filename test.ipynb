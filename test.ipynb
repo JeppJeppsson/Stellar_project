{
 "cells": [
  {
   "cell_type": "code",
   "execution_count": 12,
   "metadata": {},
   "outputs": [],
   "source": [
    "import numpy as np\n",
    "import scipy as sp\n",
    "import pandas as pd\n",
    "import matplotlib.pyplot as plt\n",
    "\n",
    "plt.style.use('matplotlib.mplstyle')\n",
    "\n",
    "DATA_DIR = 'Data/'\n",
    "data_name = '30M_0.02.txt'"
   ]
  },
  {
   "cell_type": "code",
   "execution_count": 13,
   "metadata": {},
   "outputs": [
    {
     "name": "stderr",
     "output_type": "stream",
     "text": [
      "C:\\Users\\amirt\\AppData\\Local\\Temp\\ipykernel_31820\\2355760175.py:9: FutureWarning: The 'delim_whitespace' keyword in pd.read_csv is deprecated and will be removed in a future version. Use ``sep='\\s+'`` instead\n",
      "  df = pd.read_csv(DATA_DIR+data_name, delim_whitespace=True, header=None)\n"
     ]
    }
   ],
   "source": [
    "# Importing summary file (NOT detailed structure file)\n",
    "col_names = ['Step','t','M','LogL','LogR',\n",
    "             'LogTs','LogTc','Logrhoc','logPc','psic',\n",
    "             'Xc','Yc','XCc','XNc','XOc',\n",
    "             'taudyn','tauKH','taunuc','Lpp','LCNO',\n",
    "             'L3a','LZ','Lv','MHe','MC',\n",
    "             'MO','RHe','RC','RO']\n",
    "\n",
    "df = pd.read_csv(DATA_DIR+data_name, delim_whitespace=True, header=None)\n",
    "df.columns = col_names\n",
    "df.drop(columns=['Step']); # Delete redundant step column"
   ]
  },
  {
   "cell_type": "code",
   "execution_count": 14,
   "metadata": {},
   "outputs": [],
   "source": [
    "# Example plot\n",
    "from matplotlib.ticker import ScalarFormatter\n",
    "\n",
    "plt.rcParams[\"axes.grid.axis\"] =\"y\"\n",
    "plt.rcParams[\"axes.grid\"] = True\n",
    "\n",
    "fig, axs = plt.subplots(2,2, sharex= True)\n",
    "axs[0,0].semilogy(df['t']/1e9,df['LogL'])\n",
    "axs[0,0].set_ylabel(r\"$\\log L/L_\\odot$\")\n",
    "\n",
    "axs[0,1].semilogy(df['t']/1e9,df['LogTs'])\n",
    "axs[0,1].set_ylabel(r\"$\\log T_s / 1 \\cdot \\mathrm{K}$\")\n",
    "\n",
    "axs[1,0].semilogy(df['t']/1e9,df['Logrhoc'])\n",
    "axs[1,0].set_xlabel(r\"$t \\ [\\mathrm{10^9 \\ yr}]$\")\n",
    "axs[1,0].set_ylabel(r\"$\\log \\rho_c / \\mathrm{1 \\cdot kg m^{-3}}$\")\n",
    "\n",
    "axs[1,1].semilogy(df['t']/1e9,df['LogTc'])\n",
    "axs[1,1].set_xlabel(r\"$t \\ [\\mathrm{10^9 \\ yr}]$\")\n",
    "axs[1,1].set_ylabel(r\"$\\log T_c/ 1 \\cdot \\mathrm{K}$\")\n",
    "\n",
    "x_pos = 0.0\n",
    "y_pos = 1.0\n",
    "offset_text = r'$\\times \\mathrm{10^{0}}$'\n",
    "horizontalalignment='left'\n",
    "verticalalignment='bottom'\n",
    "\n",
    "for ax in axs.flat:\n",
    "    ax.yaxis.set_minor_formatter(ScalarFormatter(useMathText=True))\n",
    "    ax.yaxis.set_major_formatter(ScalarFormatter(useMathText=True))\n",
    "    ax.text(x_pos, y_pos, offset_text, transform=ax.transAxes,\n",
    "                horizontalalignment=horizontalalignment,\n",
    "                verticalalignment=verticalalignment, fontsize = 8)\n",
    "    ax.grid(which='both', alpha=0.4, visible=True)"
   ]
  },
  {
   "cell_type": "code",
   "execution_count": null,
   "metadata": {},
   "outputs": [],
   "source": [
    "\n",
    "x_pos = 0.0\n",
    "y_pos = 1.0\n",
    "offset_text = r'$\\times \\mathrm{10^{0}}$'\n",
    "horizontalalignment='left'\n",
    "verticalalignment='bottom'\n",
    "\n",
    "for ax in axs.flat:\n",
    "    ax.yaxis.set_minor_formatter(ScalarFormatter(useMathText=True))\n",
    "    ax.yaxis.set_major_formatter(ScalarFormatter(useMathText=True))\n",
    "    ax.text(x_pos, y_pos, offset_text, transform=ax.transAxes,\n",
    "                horizontalalignment=horizontalalignment,\n",
    "                verticalalignment=verticalalignment, fontsize = 8)\n",
    "    ax.grid(which='both', alpha=0.4, visible=True)"
   ]
  }
 ],
 "metadata": {
  "kernelspec": {
   "display_name": "Python 3",
   "language": "python",
   "name": "python3"
  },
  "language_info": {
   "codemirror_mode": {
    "name": "ipython",
    "version": 3
   },
   "file_extension": ".py",
   "mimetype": "text/x-python",
   "name": "python",
   "nbconvert_exporter": "python",
   "pygments_lexer": "ipython3",
   "version": "3.11.8"
  }
 },
 "nbformat": 4,
 "nbformat_minor": 2
}
