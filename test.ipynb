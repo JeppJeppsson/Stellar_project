{
 "cells": [
  {
   "cell_type": "code",
   "execution_count": 34,
   "metadata": {},
   "outputs": [],
   "source": [
    "import numpy as np\n",
    "import scipy as sp\n",
    "import pandas as pd\n",
    "import matplotlib.pyplot as plt\n",
    "\n",
    "DATA_DIR = 'Data/'\n",
    "data_name = '2M_sun_cgs.txt'"
   ]
  },
  {
   "cell_type": "code",
   "execution_count": 33,
   "metadata": {},
   "outputs": [],
   "source": [
    "# Importing summary file (NOT detailed structure file)\n",
    "col_names = ['Step','t','M','LogL','LogR',\n",
    "             'LogTs','LogTc','Logrhoc','logPc','psic',\n",
    "             'Xc','Yc','XCc','XNc','XOc',\n",
    "             'taudyn','tauKH','taunuc','Lpp','LCNO',\n",
    "             'L3a','LZ','Lv','MHe','MC',\n",
    "             'MO','RHe','RC','RO']\n",
    "\n",
    "df = pd.read_csv(DATA_DIR+data_name, delim_whitespace=True, header=None)\n",
    "df.columns = col_names\n",
    "df.drop(columns=['Step']); # Delete redundant step column"
   ]
  },
  {
   "cell_type": "code",
   "execution_count": 43,
   "metadata": {},
   "outputs": [
    {
     "data": {
      "text/plain": [
       "[<matplotlib.lines.Line2D at 0x22b7de8e650>]"
      ]
     },
     "execution_count": 43,
     "metadata": {},
     "output_type": "execute_result"
    },
    {
     "data": {
      "image/png": "[encoded data removed]",
      "text/plain": [
       "<Figure size 432x288 with 1 Axes>"
      ]
     },
     "metadata": {
      "needs_background": "light"
     },
     "output_type": "display_data"
    }
   ],
   "source": [
    "# Example plot\n",
    "plt.semilogy(df['t'],df['LogL'])"
   ]
  }
 ],
 "metadata": {
  "kernelspec": {
   "display_name": "Python 3",
   "language": "python",
   "name": "python3"
  },
  "language_info": {
   "codemirror_mode": {
    "name": "ipython",
    "version": 3
   },
   "file_extension": ".py",
   "mimetype": "text/x-python",
   "name": "python",
   "nbconvert_exporter": "python",
   "pygments_lexer": "ipython3",
   "version": "3.10.4"
  }
 },
 "nbformat": 4,
 "nbformat_minor": 2
}
