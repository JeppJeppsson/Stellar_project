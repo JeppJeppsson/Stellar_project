{
 "cells": [
  {
   "cell_type": "markdown",
   "metadata": {},
   "source": [
    "### Nomenclature:\n",
    "| Symbol | Description | \n",
    "|----|---------------------|\n",
    "| t | Age (yr) |\n",
    "| M | Mass ($M_\\odot$) |\n",
    "| L | Luminosity ($L_\\odot$) |\n",
    "| R | Radius ($R_\\odot$) |\n",
    "| Ts | Surface temperature (K) |\n",
    "| Tc | Central temperature (K) |\n",
    "| rhoc | Central density (kg $\\text{m}^{-3}$) |\n",
    "| Pc | Central pressure (N $\\text{m}^{-2}$) |\n",
    "| Xc | Central hydrogen mass fraction |\n",
    "| Yc | Central helium mass fraction |\n",
    "| XCc | Central carbon mass fraction |\n",
    "| XNc | Central nitrogen mass fraction |\n",
    "| XOc | Central oxygen mass fraction |\n",
    "| taudyn | Dynamical timescale (s) |\n",
    "| tauKH | Kevin-Helmholtz timescale (yr) |\n",
    "| taunuc | Nuclear timescale (yr) |\n",
    "| Lpp | Proton-proton chain luminosity ($L_\\odot$) |\n",
    "| LCNO | CNO luminosity ($L_\\odot$) |\n",
    "| L3a | Triple alpha reaction luminosity ($L_\\odot$) |\n",
    "| LZ | Metal burning luminosity ($L_\\odot$) |\n",
    "| Lv | Neutrino loss luminosity ($L_\\odot$) |\n",
    "| MHe | Helium core mass ($M_\\odot$) |\n",
    "| MC | Carbon core mass ($M_\\odot$) |\n",
    "| MO | Oxygen core mass ($M_\\odot$) |\n",
    "| RHe | Helium core radius ($R_\\odot$) |\n",
    "| RC | Carbon core radius ($R_\\odot$) |\n",
    "| RO | Oxygen core radius ($R_\\odot$) |"
   ]
  }
 ],
 "metadata": {
  "language_info": {
   "name": "python"
  }
 },
 "nbformat": 4,
 "nbformat_minor": 2
}
